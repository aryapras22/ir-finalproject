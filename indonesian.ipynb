{
 "cells": [
  {
   "cell_type": "code",
   "execution_count": 1,
   "id": "49729a70",
   "metadata": {},
   "outputs": [],
   "source": [
    "import pandas as pd\n",
    "import re\n",
    "from Sastrawi.Stemmer.StemmerFactory import StemmerFactory\n",
    "from Sastrawi.StopWordRemover.StopWordRemoverFactory import StopWordRemoverFactory"
   ]
  },
  {
   "cell_type": "code",
   "execution_count": 2,
   "id": "0d314676",
   "metadata": {},
   "outputs": [],
   "source": [
    "# --- 1. Persiapan Data Sampel ---\n",
    "# Membuat DataFrame sampel sesuai dengan struktur kolom yang Anda berikan.\n",
    "# Dalam implementasi nyata, Anda akan memuat data Anda dari file (misal: pd.read_csv('nama_file.csv')).\n",
    "data = {\n",
    "    'userName': ['pengguna_1', 'pengguna_2', 'pengguna_3', 'pengguna_4'],\n",
    "    'content': [\n",
    "        'Vaksinasi COVID-19 di kecamatan @sehatselalu berjalan lancar!! 😊 Syukurlah... Semoga pandemi cepat berakhir. Cek info di https://info.sehat/vaksin',\n",
    "        'PPKM diperpanjang lagi?!?!? 😠 Capek banget sama aturan yg gak jelas #ppkm #covid19... kapan kita bisa hidup normal lagi yaa? 1000 pertanyaan di kepalaku.',\n",
    "        'Terima kasih nakes! Kalian pahlawan garda terdepan. Perjuangan kalian luar biasa... #respect 👍',\n",
    "        'Apa benar varian Delta lebih mematikan dari varian sebelumnya? Saya jadi khawatir... Mohon pencerahannya, guys.'\n",
    "    ],\n",
    "    'score': [5, 2, 5, 3],\n",
    "    'reviewCreatedVersion': ['1.0', '1.0', '1.1', '1.1'],\n",
    "    'at': ['2022-07-12', '2022-07-12', '2022-07-13', '2022-07-14'],\n",
    "    'Sentimen Akhir': ['Positif', 'Negatif', 'Positif', 'Negatif']\n",
    "}\n",
    "df = pd.DataFrame(data)"
   ]
  },
  {
   "cell_type": "code",
   "execution_count": 4,
   "id": "a3ec63d0",
   "metadata": {},
   "outputs": [
    {
     "name": "stdout",
     "output_type": "stream",
     "text": [
      "--- Data Awal ---\n",
      "| userName   | content                                                                                                                                                    |\n",
      "|:-----------|:-----------------------------------------------------------------------------------------------------------------------------------------------------------|\n",
      "| pengguna_1 | Vaksinasi COVID-19 di kecamatan @sehatselalu berjalan lancar!! 😊 Syukurlah... Semoga pandemi cepat berakhir. Cek info di https://info.sehat/vaksin        |\n",
      "| pengguna_2 | PPKM diperpanjang lagi?!?!? 😠 Capek banget sama aturan yg gak jelas #ppkm #covid19... kapan kita bisa hidup normal lagi yaa? 1000 pertanyaan di kepalaku. |\n",
      "| pengguna_3 | Terima kasih nakes! Kalian pahlawan garda terdepan. Perjuangan kalian luar biasa... #respect 👍                                                            |\n",
      "| pengguna_4 | Apa benar varian Delta lebih mematikan dari varian sebelumnya? Saya jadi khawatir... Mohon pencerahannya, guys.                                            |\n",
      "\n",
      "==================================================\n",
      "\n"
     ]
    }
   ],
   "source": [
    "print(\"--- Data Awal ---\")\n",
    "print(df[['userName', 'content']].to_markdown(index=False))\n",
    "print(\"\\n\" + \"=\"*50 + \"\\n\")"
   ]
  },
  {
   "cell_type": "code",
   "execution_count": 14,
   "id": "974f6799",
   "metadata": {},
   "outputs": [
    {
     "name": "stdout",
     "output_type": "stream",
     "text": [
      "--- Setelah Pembersihan Dasar (Basic Cleaning) ---\n",
      "| userName   | cleaned_content                                                                                                           |\n",
      "|:-----------|:--------------------------------------------------------------------------------------------------------------------------|\n",
      "| pengguna_1 | vaksinasi covid di kecamatan berjalan lancar syukurlah semoga pandemi cepat berakhir cek info di                          |\n",
      "| pengguna_2 | ppkm diperpanjang lagi capek banget sama aturan yg gak jelas kapan kita bisa hidup normal lagi yaa pertanyaan di kepalaku |\n",
      "| pengguna_3 | terima kasih nakes kalian pahlawan garda terdepan perjuangan kalian luar biasa                                            |\n",
      "| pengguna_4 | apa benar varian delta lebih mematikan dari varian sebelumnya saya jadi khawatir mohon pencerahannya guys                 |\n",
      "\n",
      "==================================================\n",
      "\n"
     ]
    }
   ],
   "source": [
    "# --- 2. Fungsi Pra-pemrosesan Dasar ---\n",
    "# Fungsi ini melakukan pembersihan awal berdasarkan metodologi penelitian[cite: 88].\n",
    "def preprocess_basic(text):\n",
    "    # Mengubah teks menjadi huruf kecil [cite: 89]\n",
    "    text = text.lower()\n",
    "    # Menghapus mention (@username) [cite: 88]\n",
    "    text = re.sub(r'@[a-zA-Z0-9_]+', '', text)\n",
    "    # Menghapus tagar (#hashtag) [cite: 88]\n",
    "    text = re.sub(r'#\\w+', '', text)\n",
    "    # Menghapus URL [cite: 88]\n",
    "    text = re.sub(r'https?://\\S+|www\\.\\S+', '', text)\n",
    "    # Menghapus emoji [cite: 88]\n",
    "    text = re.sub(r'<.*?>', '', text) # Menghapus tag HTML jika ada\n",
    "    # Menggunakan regex untuk menghapus karakter non-alfanumerik (termasuk emoji dan simbol) [cite: 88]\n",
    "    text = re.sub(r'[^a-zA-Z0-9\\s]', '', text)\n",
    "    # Menghapus angka [cite: 88]\n",
    "    text = re.sub(r'\\d+', '', text)\n",
    "    # Menghapus spasi berlebih [cite: 88]\n",
    "    text = text.strip()\n",
    "    text = re.sub(r'\\s+', ' ', text)\n",
    "    return text\n",
    "\n",
    "# Menerapkan pembersihan dasar\n",
    "df['cleaned_content'] = df['content'].apply(preprocess_basic)\n",
    "\n",
    "print(\"--- Setelah Pembersihan Dasar (Basic Cleaning) ---\")\n",
    "print(df[['userName', 'cleaned_content']].to_markdown(index=False))\n",
    "print(\"\\n\" + \"=\"*50 + \"\\n\")"
   ]
  },
  {
   "cell_type": "code",
   "execution_count": 6,
   "id": "84b56801",
   "metadata": {},
   "outputs": [
    {
     "name": "stdout",
     "output_type": "stream",
     "text": [
      "--- Setelah Penghapusan Stopwords ---\n",
      "| userName   | no_stopwords_content                                                                                    |\n",
      "|:-----------|:--------------------------------------------------------------------------------------------------------|\n",
      "| pengguna_1 | vaksinasi covid kecamatan berjalan lancar syukurlah semoga pandemi cepat berakhir cek info              |\n",
      "| pengguna_2 | ppkm diperpanjang capek banget sama aturan yg gak jelas kapan bisa hidup normal yaa pertanyaan kepalaku |\n",
      "| pengguna_3 | terima kasih nakes kalian pahlawan garda terdepan perjuangan kalian luar biasa                          |\n",
      "| pengguna_4 | apa benar varian delta lebih mematikan varian sebelumnya jadi khawatir mohon pencerahannya guys         |\n",
      "\n",
      "==================================================\n",
      "\n"
     ]
    }
   ],
   "source": [
    "# --- 3. Penghapusan Stopwords ---\n",
    "# Menggunakan Sastrawi untuk daftar stopwords Bahasa Indonesia.\n",
    "# Langkah ini sesuai dengan metodologi untuk fokus pada kata bermakna[cite: 91].\n",
    "remover_factory = StopWordRemoverFactory()\n",
    "stopword_remover = remover_factory.create_stop_word_remover()\n",
    "\n",
    "def remove_stopwords(text):\n",
    "    return stopword_remover.remove(text)\n",
    "\n",
    "# Menerapkan penghapusan stopwords\n",
    "df['no_stopwords_content'] = df['cleaned_content'].apply(remove_stopwords)\n",
    "\n",
    "print(\"--- Setelah Penghapusan Stopwords ---\")\n",
    "print(df[['userName', 'no_stopwords_content']].to_markdown(index=False))\n",
    "print(\"\\n\" + \"=\"*50 + \"\\n\")"
   ]
  },
  {
   "cell_type": "code",
   "execution_count": 7,
   "id": "30dc2f31",
   "metadata": {},
   "outputs": [
    {
     "name": "stdout",
     "output_type": "stream",
     "text": [
      "--- Setelah Stemming (Hasil Akhir Pra-pemrosesan) ---\n",
      "| userName   | stemmed_content                                                                           |\n",
      "|:-----------|:------------------------------------------------------------------------------------------|\n",
      "| pengguna_1 | vaksinasi covid camat jalan lancar syukur moga pandemi cepat akhir cek info               |\n",
      "| pengguna_2 | ppkm panjang capek banget sama atur yg gak jelas kapan bisa hidup normal yaa tanya kepala |\n",
      "| pengguna_3 | terima kasih nakes kalian pahlawan garda depan juang kalian luar biasa                    |\n",
      "| pengguna_4 | apa benar varian delta lebih mati varian belum jadi khawatir mohon cerah guys             |\n",
      "\n",
      "==================================================\n",
      "\n"
     ]
    }
   ],
   "source": [
    "# --- 4. Stemming (Mengubah ke Kata Dasar) ---\n",
    "# Proses ini mengubah kata ke bentuk dasarnya (misal: 'berjalan' -> 'jalan').\n",
    "# Tujuannya adalah untuk mengurangi dimensi fitur untuk analisis ML[cite: 94, 95].\n",
    "stemmer_factory = StemmerFactory()\n",
    "stemmer = stemmer_factory.create_stemmer()\n",
    "\n",
    "def stem_text(text):\n",
    "    return stemmer.stem(text)\n",
    "\n",
    "# Menerapkan stemming\n",
    "df['stemmed_content'] = df['no_stopwords_content'].apply(stem_text)\n",
    "\n",
    "print(\"--- Setelah Stemming (Hasil Akhir Pra-pemrosesan) ---\")\n",
    "print(df[['userName', 'stemmed_content']].to_markdown(index=False))\n",
    "print(\"\\n\" + \"=\"*50 + \"\\n\")"
   ]
  },
  {
   "cell_type": "code",
   "execution_count": 8,
   "id": "5d45827f",
   "metadata": {},
   "outputs": [
    {
     "name": "stdout",
     "output_type": "stream",
     "text": [
      "--- DataFrame Final Setelah Semua Tahapan Pra-pemrosesan ---\n",
      "| userName   | content                                                                                                                                                    | stemmed_content                                                                           | Sentimen Akhir   |\n",
      "|:-----------|:-----------------------------------------------------------------------------------------------------------------------------------------------------------|:------------------------------------------------------------------------------------------|:-----------------|\n",
      "| pengguna_1 | Vaksinasi COVID-19 di kecamatan @sehatselalu berjalan lancar!! 😊 Syukurlah... Semoga pandemi cepat berakhir. Cek info di https://info.sehat/vaksin        | vaksinasi covid camat jalan lancar syukur moga pandemi cepat akhir cek info               | Positif          |\n",
      "| pengguna_2 | PPKM diperpanjang lagi?!?!? 😠 Capek banget sama aturan yg gak jelas #ppkm #covid19... kapan kita bisa hidup normal lagi yaa? 1000 pertanyaan di kepalaku. | ppkm panjang capek banget sama atur yg gak jelas kapan bisa hidup normal yaa tanya kepala | Negatif          |\n",
      "| pengguna_3 | Terima kasih nakes! Kalian pahlawan garda terdepan. Perjuangan kalian luar biasa... #respect 👍                                                            | terima kasih nakes kalian pahlawan garda depan juang kalian luar biasa                    | Positif          |\n",
      "| pengguna_4 | Apa benar varian Delta lebih mematikan dari varian sebelumnya? Saya jadi khawatir... Mohon pencerahannya, guys.                                            | apa benar varian delta lebih mati varian belum jadi khawatir mohon cerah guys             | Negatif          |\n"
     ]
    }
   ],
   "source": [
    "print(\"--- DataFrame Final Setelah Semua Tahapan Pra-pemrosesan ---\")\n",
    "# Menampilkan kolom-kolom relevan dari awal hingga akhir\n",
    "final_columns = ['userName', 'content', 'stemmed_content', 'Sentimen Akhir']\n",
    "print(df[final_columns].to_markdown(index=False))"
   ]
  }
 ],
 "metadata": {
  "kernelspec": {
   "display_name": "ir_finalproject",
   "language": "python",
   "name": "python3"
  },
  "language_info": {
   "codemirror_mode": {
    "name": "ipython",
    "version": 3
   },
   "file_extension": ".py",
   "mimetype": "text/x-python",
   "name": "python",
   "nbconvert_exporter": "python",
   "pygments_lexer": "ipython3",
   "version": "3.13.2"
  }
 },
 "nbformat": 4,
 "nbformat_minor": 5
}
