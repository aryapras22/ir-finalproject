{
 "cells": [
  {
   "cell_type": "code",
   "execution_count": 1,
   "id": "69f1874d",
   "metadata": {},
   "outputs": [
    {
     "name": "stderr",
     "output_type": "stream",
     "text": [
      "[nltk_data] Downloading package punkt to /home/caffeine/nltk_data...\n",
      "[nltk_data]   Package punkt is already up-to-date!\n",
      "[nltk_data] Downloading package stopwords to\n",
      "[nltk_data]     /home/caffeine/nltk_data...\n",
      "[nltk_data]   Unzipping corpora/stopwords.zip.\n",
      "[nltk_data] Downloading package wordnet to /home/caffeine/nltk_data...\n"
     ]
    },
    {
     "data": {
      "text/plain": [
       "True"
      ]
     },
     "execution_count": 1,
     "metadata": {},
     "output_type": "execute_result"
    }
   ],
   "source": [
    "import nltk\n",
    "nltk.download('punkt')\n",
    "nltk.download('stopwords')\n",
    "nltk.download('wordnet')"
   ]
  },
  {
   "cell_type": "code",
   "execution_count": 2,
   "id": "20a5f174",
   "metadata": {},
   "outputs": [],
   "source": [
    "import pandas as pd\n",
    "import re\n",
    "import nltk\n",
    "from nltk.corpus import stopwords\n",
    "from nltk.stem import WordNetLemmatizer\n",
    "from nltk.tokenize import word_tokenize"
   ]
  },
  {
   "cell_type": "code",
   "execution_count": 4,
   "id": "20b2246f",
   "metadata": {},
   "outputs": [],
   "source": [
    "# --- 1. Persiapan Data Sampel ---\n",
    "# Membuat DataFrame sampel sesuai struktur kolom yang Anda minta.\n",
    "# Dalam implementasi nyata, Anda akan memuat data Anda (misal: pd.read_csv('your_data.csv')).\n",
    "data = {\n",
    "    'userName': ['user_A', 'user_B', 'user_C', 'user_D', 'user_A'],\n",
    "    'content': [\n",
    "        'The #COVID19 Delta variant is spreading fast!! 😱 So worried about the new cases. Check https://info.gov/stats',\n",
    "        'Just got my second vaccine dose. Feeling hopeful and safe. Thanks to the amazing staff @healthclinic. 😊 #vaccinated',\n",
    "        'Another lockdown? Seriously? I am so done with this. This is the 4th time!',\n",
    "        'This research on the Epsilon variant is quite interesting. It suggests a different approach might be needed.',\n",
    "        'The #COVID19 Delta variant is spreading fast!! 😱 So worried about the new cases. Check https://info.gov/stats'\n",
    "    ],\n",
    "    'score': [2, 5, 1, 4, 2],\n",
    "    'reviewCreatedVersion': ['2.1', '2.1', '2.2', '2.2', '2.1'],\n",
    "    'at': ['2022-07-11', '2022-07-12', '2022-07-13', '2022-07-14', '2022-07-11'],\n",
    "    'Sentimen Akhir': ['Negative', 'Positive', 'Negative', 'Neutral', 'Negative']\n",
    "}\n",
    "df = pd.DataFrame(data)"
   ]
  },
  {
   "cell_type": "code",
   "execution_count": 5,
   "id": "a7425ebf",
   "metadata": {},
   "outputs": [
    {
     "name": "stdout",
     "output_type": "stream",
     "text": [
      "--- Data Awal ---\n",
      "Jumlah baris awal: 5\n",
      "| userName   | content                                                                                                              |\n",
      "|:-----------|:---------------------------------------------------------------------------------------------------------------------|\n",
      "| user_A     | The #COVID19 Delta variant is spreading fast!! 😱 So worried about the new cases. Check https://info.gov/stats       |\n",
      "| user_B     | Just got my second vaccine dose. Feeling hopeful and safe. Thanks to the amazing staff @healthclinic. 😊 #vaccinated |\n",
      "| user_C     | Another lockdown? Seriously? I am so done with this. This is the 4th time!                                           |\n",
      "| user_D     | This research on the Epsilon variant is quite interesting. It suggests a different approach might be needed.         |\n",
      "| user_A     | The #COVID19 Delta variant is spreading fast!! 😱 So worried about the new cases. Check https://info.gov/stats       |\n",
      "\n",
      "==================================================\n",
      "\n"
     ]
    }
   ],
   "source": [
    "print(\"--- Data Awal ---\")\n",
    "print(f\"Jumlah baris awal: {len(df)}\")\n",
    "print(df[['userName', 'content']].to_markdown(index=False))\n",
    "print(\"\\n\" + \"=\"*50 + \"\\n\")\n"
   ]
  },
  {
   "cell_type": "code",
   "execution_count": 6,
   "id": "9614f258",
   "metadata": {},
   "outputs": [
    {
     "name": "stdout",
     "output_type": "stream",
     "text": [
      "--- Setelah Penghapusan Duplikat ---\n",
      "Jumlah baris setelah menghapus duplikat: 4\n",
      "| userName   | content                                                                                                              |\n",
      "|:-----------|:---------------------------------------------------------------------------------------------------------------------|\n",
      "| user_A     | The #COVID19 Delta variant is spreading fast!! 😱 So worried about the new cases. Check https://info.gov/stats       |\n",
      "| user_B     | Just got my second vaccine dose. Feeling hopeful and safe. Thanks to the amazing staff @healthclinic. 😊 #vaccinated |\n",
      "| user_C     | Another lockdown? Seriously? I am so done with this. This is the 4th time!                                           |\n",
      "| user_D     | This research on the Epsilon variant is quite interesting. It suggests a different approach might be needed.         |\n",
      "\n",
      "==================================================\n",
      "\n"
     ]
    }
   ],
   "source": [
    "# --- 2. Penghapusan Tweet Duplikat ---\n",
    "# Sesuai metodologi untuk menghindari redundansi data[cite: 90].\n",
    "df.drop_duplicates(subset=['content'], inplace=True)\n",
    "df.reset_index(drop=True, inplace=True)\n",
    "\n",
    "print(\"--- Setelah Penghapusan Duplikat ---\")\n",
    "print(f\"Jumlah baris setelah menghapus duplikat: {len(df)}\")\n",
    "print(df[['userName', 'content']].to_markdown(index=False))\n",
    "print(\"\\n\" + \"=\"*50 + \"\\n\")"
   ]
  },
  {
   "cell_type": "code",
   "execution_count": 7,
   "id": "d421ae6e",
   "metadata": {},
   "outputs": [],
   "source": [
    "# --- 3. Fungsi Pra-pemrosesan Utama ---\n",
    "# Menggabungkan beberapa langkah pembersihan yang dijelaskan dalam jurnal[cite: 87, 88, 89, 91].\n",
    "lemmatizer = WordNetLemmatizer()\n",
    "stop_words = set(stopwords.words('english'))\n",
    "\n",
    "def preprocess_tweet(text):\n",
    "    # a. Konversi ke huruf kecil [cite: 89]\n",
    "    text = text.lower()\n",
    "    \n",
    "    # b. Menghapus URL, mention, tagar, simbol, dan angka [cite: 88]\n",
    "    # Menghapus URL\n",
    "    text = re.sub(r'https?://\\S+|www\\.\\S+', '', text)\n",
    "    # Menghapus mention (@username)\n",
    "    text = re.sub(r'@[a-zA-Z0-9_]+', '', text)\n",
    "    # Menghapus tagar (#hashtag)\n",
    "    text = re.sub(r'#\\w+', '', text)\n",
    "    # Menghapus emoji dan simbol lainnya (mempertahankan karakter alfanumerik dan spasi)\n",
    "    text = re.sub(r'[^a-zA-Z\\s]', '', text)\n",
    "    # Menghapus angka tidak diperlukan karena regex di atas sudah menanganinya\n",
    "    \n",
    "    # c. Tokenisasi teks\n",
    "    tokens = word_tokenize(text)\n",
    "    \n",
    "    # d. Menghapus stopwords [cite: 91]\n",
    "    tokens = [word for word in tokens if word not in stop_words]\n",
    "    \n",
    "    # e. Lemmatization [cite: 94]\n",
    "    # Proses ini mengurangi kata ke bentuk dasarnya (lemma)\n",
    "    tokens = [lemmatizer.lemmatize(word) for word in tokens]\n",
    "    \n",
    "    # Menggabungkan kembali token menjadi kalimat bersih\n",
    "    return ' '.join(tokens)\n",
    "\n",
    "# Menerapkan fungsi pra-pemrosesan ke kolom 'content'\n",
    "df['processed_content'] = df['content'].apply(preprocess_tweet)"
   ]
  },
  {
   "cell_type": "code",
   "execution_count": 8,
   "id": "2b109b7e",
   "metadata": {},
   "outputs": [
    {
     "name": "stdout",
     "output_type": "stream",
     "text": [
      "--- DataFrame Final Setelah Semua Tahapan Pra-pemrosesan ---\n",
      "| userName   | content                                                                                                              | processed_content                                                                   | Sentimen Akhir   |\n",
      "|:-----------|:---------------------------------------------------------------------------------------------------------------------|:------------------------------------------------------------------------------------|:-----------------|\n",
      "| user_A     | The #COVID19 Delta variant is spreading fast!! 😱 So worried about the new cases. Check https://info.gov/stats       | delta variant spreading fast worried new case check                                 | Negative         |\n",
      "| user_B     | Just got my second vaccine dose. Feeling hopeful and safe. Thanks to the amazing staff @healthclinic. 😊 #vaccinated | got second vaccine dose feeling hopeful safe thanks amazing staff                   | Positive         |\n",
      "| user_C     | Another lockdown? Seriously? I am so done with this. This is the 4th time!                                           | another lockdown seriously done th time                                             | Negative         |\n",
      "| user_D     | This research on the Epsilon variant is quite interesting. It suggests a different approach might be needed.         | research epsilon variant quite interesting suggests different approach might needed | Neutral          |\n"
     ]
    }
   ],
   "source": [
    "print(\"--- DataFrame Final Setelah Semua Tahapan Pra-pemrosesan ---\")\n",
    "# Menampilkan kolom-kolom relevan dari awal hingga akhir\n",
    "final_columns = ['userName', 'content', 'processed_content', 'Sentimen Akhir']\n",
    "print(df[final_columns].to_markdown(index=False))"
   ]
  }
 ],
 "metadata": {
  "kernelspec": {
   "display_name": "ir_finalproject",
   "language": "python",
   "name": "python3"
  },
  "language_info": {
   "codemirror_mode": {
    "name": "ipython",
    "version": 3
   },
   "file_extension": ".py",
   "mimetype": "text/x-python",
   "name": "python",
   "nbconvert_exporter": "python",
   "pygments_lexer": "ipython3",
   "version": "3.13.2"
  }
 },
 "nbformat": 4,
 "nbformat_minor": 5
}
